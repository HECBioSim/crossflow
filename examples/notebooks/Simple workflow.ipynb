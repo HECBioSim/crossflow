{
 "cells": [
  {
   "cell_type": "markdown",
   "metadata": {},
   "source": [
    "# A Crossflow workflow\n",
    "\n",
    "This notebook illustrates a basic Crossflow workflow, with scatter, parallel processing, and gather steps.\n",
    "\n",
    "The workflow:\n",
    "\n",
    "1. Splits an input text file into pieces\n",
    "2. In parallel, reverses the order of the lines in each piece\n",
    "3. Stitches the reversed pieces back together"
   ]
  },
  {
   "cell_type": "code",
   "execution_count": null,
   "metadata": {},
   "outputs": [],
   "source": [
    "from crossflow import clients, tasks\n",
    "from pathlib import Path"
   ]
  },
  {
   "cell_type": "markdown",
   "metadata": {},
   "source": [
    "Start a client that serves a temporary compute cluster that is launched on the current machine:"
   ]
  },
  {
   "cell_type": "code",
   "execution_count": null,
   "metadata": {},
   "outputs": [],
   "source": [
    "client = clients.Client()\n",
    "client.client"
   ]
  },
  {
   "cell_type": "markdown",
   "metadata": {},
   "source": [
    "Create a text file of 25 lines:"
   ]
  },
  {
   "cell_type": "code",
   "execution_count": null,
   "metadata": {},
   "outputs": [],
   "source": [
    "here = Path('.')\n",
    "input_file = here /'input.txt'\n",
    "with input_file.open('w') as f:\n",
    "    for i in range(25):\n",
    "        f.write('line {}\\n'.format(i))"
   ]
  },
  {
   "cell_type": "markdown",
   "metadata": {},
   "source": [
    "Create the three tasks required: one to split up the initial text file, one to reverse the order of the lines, one to join the pieces back together again.\n",
    "\n",
    "We are going to use the standard unix `split`, `tail` and `cat` commands, to illustrate how tools usually used via the command line can be converted into Python functions.\n",
    "\n",
    "**Note**: some flavours of Unix do not support `tail -r`; in such cases `tac` will do the same job."
   ]
  },
  {
   "cell_type": "code",
   "execution_count": null,
   "metadata": {},
   "outputs": [],
   "source": [
    "# Create a SubprocessTask that will split up the input file:\n",
    "splitter = tasks.SubprocessTask('split -l 5 input.txt')\n",
    "splitter.set_inputs(['input.txt'])\n",
    "splitter.set_outputs(['xaa', 'xab', 'xac', 'xad', 'xae'])\n",
    "\n",
    "# Create a SubprocessTask to reverse the order of the lines in a file:\n",
    "reverser = tasks.SubprocessTask('tail -r input > output')\n",
    "#reverser = tasks.SubprocessTask('tac input > output')\n",
    "reverser.set_inputs(['input'])\n",
    "reverser.set_outputs(['output'])\n",
    "\n",
    "# Create a Subprocesstask that will join input files together:\n",
    "joiner = tasks.SubprocessTask('cat * > output')\n",
    "joiner.set_inputs(['*'])\n",
    "joiner.set_outputs(['output'])"
   ]
  },
  {
   "cell_type": "markdown",
   "metadata": {},
   "source": [
    "Here is the workflow, using the client's .submit() and .map() methods:"
   ]
  },
  {
   "cell_type": "code",
   "execution_count": null,
   "metadata": {},
   "outputs": [],
   "source": [
    "# First split the file into pieces:\n",
    "pieces = client.submit(splitter, input_file)\n",
    "# 'pieces' is a tuple, convert to a list and process each piece in parallel:\n",
    "reversed_pieces = client.map(reverser, list(pieces))\n",
    "# Stitch the reversed pieces back together again:\n",
    "output = client.submit(joiner, reversed_pieces)"
   ]
  },
  {
   "cell_type": "markdown",
   "metadata": {},
   "source": [
    "The client returns its outputs as `Futures`, while these can be passed as-is between tasks, when it comes to getting at the final data, you need to call their .result() method:"
   ]
  },
  {
   "cell_type": "code",
   "execution_count": null,
   "metadata": {},
   "outputs": [],
   "source": [
    "output_filehandle = output.result()\n",
    "# print the contents of the output FileHandle:\n",
    "print(output_filehandle.read_text())"
   ]
  },
  {
   "cell_type": "code",
   "execution_count": null,
   "metadata": {},
   "outputs": [],
   "source": []
  }
 ],
 "metadata": {
  "kernelspec": {
   "display_name": "Python 3 (ipykernel)",
   "language": "python",
   "name": "python3"
  },
  "language_info": {
   "codemirror_mode": {
    "name": "ipython",
    "version": 3
   },
   "file_extension": ".py",
   "mimetype": "text/x-python",
   "name": "python",
   "nbconvert_exporter": "python",
   "pygments_lexer": "ipython3",
   "version": "3.9.17"
  },
  "taskspec": {
   "display_name": "Python 3",
   "language": "python",
   "name": "python3"
  }
 },
 "nbformat": 4,
 "nbformat_minor": 4
}
